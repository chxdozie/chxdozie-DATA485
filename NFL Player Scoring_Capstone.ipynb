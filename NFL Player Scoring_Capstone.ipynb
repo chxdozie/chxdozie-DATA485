{
 "cells": [
  {
   "cell_type": "code",
   "execution_count": 105,
   "metadata": {},
   "outputs": [
    {
     "name": "stdout",
     "output_type": "stream",
     "text": [
      "This database has the collections ['NFL_STATS']\n"
     ]
    }
   ],
   "source": [
    "import json\n",
    "\n",
    "# Access JSON file with connection string\n",
    "\n",
    "with open('G:\\\\My Drive\\\\School\\\\DATA 320\\\\readonly-credentials.json') as f:\n",
    "    # Load the JSON data from the file.\n",
    "    data = json.load(f)\n",
    "\n",
    "    # Extract the readonly_key from the JSON data.\n",
    "    readonly_key = data['readonly_key']\n",
    "\n",
    "\n",
    "import pymongo\n",
    "import certifi\n",
    "\n",
    "# Connect to MongoDB Database with string.\n",
    "mongo_connection_string = data['readonly_key']\n",
    "\n",
    "client = pymongo.MongoClient(mongo_connection_string, tlsCAFile=certifi.where())\n",
    "\n",
    "da485_database = client['DATA485']\n",
    "\n",
    "allCollections = da485_database.list_collection_names()\n",
    "\n",
    "# Verify database version and collection.\n",
    "print(f\"This database has the collections {allCollections}\")\n",
    "\n"
   ]
  },
  {
   "cell_type": "code",
   "execution_count": 106,
   "metadata": {},
   "outputs": [
    {
     "name": "stdout",
     "output_type": "stream",
     "text": [
      "<class 'pandas.core.frame.DataFrame'>\n",
      "RangeIndex: 2389 entries, 0 to 2388\n",
      "Data columns (total 9 columns):\n",
      " #   Column  Non-Null Count  Dtype  \n",
      "---  ------  --------------  -----  \n",
      " 0   _id     2389 non-null   object \n",
      " 1   Season  2389 non-null   int64  \n",
      " 2   Player  2389 non-null   object \n",
      " 3   Age     2389 non-null   float64\n",
      " 4   Pos     2389 non-null   object \n",
      " 5   G       2389 non-null   int64  \n",
      " 6   GS      2389 non-null   float64\n",
      " 7   RshTD   2389 non-null   float64\n",
      " 8   RecTD   2389 non-null   float64\n",
      "dtypes: float64(4), int64(2), object(3)\n",
      "memory usage: 168.1+ KB\n"
     ]
    }
   ],
   "source": [
    "import pandas as pd\n",
    "\n",
    "# Retrieve all records from a collection - this can be a large amount of data!\n",
    "cursor = da485_database[\"NFL_STATS\"].find()\n",
    "\n",
    "# Convert this information into a Pandas dataframe.\n",
    "scoring_stats = pd.DataFrame(cursor)\n",
    "\n",
    "# Make sure we've read the information correctly.\n",
    "scoring_stats.head()\n",
    "\n",
    "import pandas\n",
    "\n",
    "# Access the 'imdb' collection.\n",
    "cursor = da485_database['NFL_STATS'].find()\n",
    "\n",
    "# Create a Pandas DataFrame using the data retrieved.\n",
    "scoring_stats = pd.DataFrame(cursor)\n",
    "\n",
    "# Preview Dataframe.\n",
    "scoring_stats.info()\n",
    "\n",
    "\n",
    "\n",
    "\n"
   ]
  },
  {
   "cell_type": "code",
   "execution_count": 107,
   "metadata": {},
   "outputs": [
    {
     "data": {
      "text/html": [
       "<div>\n",
       "<style scoped>\n",
       "    .dataframe tbody tr th:only-of-type {\n",
       "        vertical-align: middle;\n",
       "    }\n",
       "\n",
       "    .dataframe tbody tr th {\n",
       "        vertical-align: top;\n",
       "    }\n",
       "\n",
       "    .dataframe thead th {\n",
       "        text-align: right;\n",
       "    }\n",
       "</style>\n",
       "<table border=\"1\" class=\"dataframe\">\n",
       "  <thead>\n",
       "    <tr style=\"text-align: right;\">\n",
       "      <th></th>\n",
       "      <th>_id</th>\n",
       "      <th>Season</th>\n",
       "      <th>Player</th>\n",
       "      <th>Age</th>\n",
       "      <th>Pos</th>\n",
       "      <th>G</th>\n",
       "      <th>GS</th>\n",
       "      <th>RshTD</th>\n",
       "      <th>RecTD</th>\n",
       "    </tr>\n",
       "  </thead>\n",
       "  <tbody>\n",
       "    <tr>\n",
       "      <th>0</th>\n",
       "      <td>653487058d3b56d4877c97fc</td>\n",
       "      <td>1926</td>\n",
       "      <td>Eddie Kotal</td>\n",
       "      <td>24.0</td>\n",
       "      <td>HB</td>\n",
       "      <td>10</td>\n",
       "      <td>5.0</td>\n",
       "      <td>1.0</td>\n",
       "      <td>1.0</td>\n",
       "    </tr>\n",
       "    <tr>\n",
       "      <th>1</th>\n",
       "      <td>653487058d3b56d4877c97fd</td>\n",
       "      <td>1934</td>\n",
       "      <td>Joe Laws</td>\n",
       "      <td>23.0</td>\n",
       "      <td>HB</td>\n",
       "      <td>13</td>\n",
       "      <td>7.0</td>\n",
       "      <td>1.0</td>\n",
       "      <td>1.0</td>\n",
       "    </tr>\n",
       "    <tr>\n",
       "      <th>2</th>\n",
       "      <td>653487058d3b56d4877c97fe</td>\n",
       "      <td>1940</td>\n",
       "      <td>Lou Tomasetti</td>\n",
       "      <td>24.0</td>\n",
       "      <td>HB</td>\n",
       "      <td>10</td>\n",
       "      <td>9.0</td>\n",
       "      <td>1.0</td>\n",
       "      <td>1.0</td>\n",
       "    </tr>\n",
       "    <tr>\n",
       "      <th>3</th>\n",
       "      <td>653487058d3b56d4877c97ff</td>\n",
       "      <td>1943</td>\n",
       "      <td>Merl Condit</td>\n",
       "      <td>26.0</td>\n",
       "      <td>HB</td>\n",
       "      <td>8</td>\n",
       "      <td>7.0</td>\n",
       "      <td>1.0</td>\n",
       "      <td>1.0</td>\n",
       "    </tr>\n",
       "    <tr>\n",
       "      <th>4</th>\n",
       "      <td>653487058d3b56d4877c9800</td>\n",
       "      <td>1950</td>\n",
       "      <td>Fred Gehrke</td>\n",
       "      <td>32.0</td>\n",
       "      <td>HB</td>\n",
       "      <td>11</td>\n",
       "      <td>1.0</td>\n",
       "      <td>1.0</td>\n",
       "      <td>1.0</td>\n",
       "    </tr>\n",
       "  </tbody>\n",
       "</table>\n",
       "</div>"
      ],
      "text/plain": [
       "                        _id  Season         Player   Age Pos   G   GS  RshTD  \\\n",
       "0  653487058d3b56d4877c97fc    1926    Eddie Kotal  24.0  HB  10  5.0    1.0   \n",
       "1  653487058d3b56d4877c97fd    1934       Joe Laws  23.0  HB  13  7.0    1.0   \n",
       "2  653487058d3b56d4877c97fe    1940  Lou Tomasetti  24.0  HB  10  9.0    1.0   \n",
       "3  653487058d3b56d4877c97ff    1943    Merl Condit  26.0  HB   8  7.0    1.0   \n",
       "4  653487058d3b56d4877c9800    1950    Fred Gehrke  32.0  HB  11  1.0    1.0   \n",
       "\n",
       "   RecTD  \n",
       "0    1.0  \n",
       "1    1.0  \n",
       "2    1.0  \n",
       "3    1.0  \n",
       "4    1.0  "
      ]
     },
     "execution_count": 107,
     "metadata": {},
     "output_type": "execute_result"
    }
   ],
   "source": [
    "scoring_stats.head()"
   ]
  },
  {
   "cell_type": "code",
   "execution_count": 108,
   "metadata": {},
   "outputs": [
    {
     "data": {
      "text/html": [
       "<div>\n",
       "<style scoped>\n",
       "    .dataframe tbody tr th:only-of-type {\n",
       "        vertical-align: middle;\n",
       "    }\n",
       "\n",
       "    .dataframe tbody tr th {\n",
       "        vertical-align: top;\n",
       "    }\n",
       "\n",
       "    .dataframe thead th {\n",
       "        text-align: right;\n",
       "    }\n",
       "</style>\n",
       "<table border=\"1\" class=\"dataframe\">\n",
       "  <thead>\n",
       "    <tr style=\"text-align: right;\">\n",
       "      <th></th>\n",
       "      <th>_id</th>\n",
       "      <th>Season</th>\n",
       "      <th>Player</th>\n",
       "      <th>Age</th>\n",
       "      <th>Pos</th>\n",
       "      <th>G</th>\n",
       "      <th>GS</th>\n",
       "      <th>RshTD</th>\n",
       "      <th>RecTD</th>\n",
       "    </tr>\n",
       "  </thead>\n",
       "  <tbody>\n",
       "    <tr>\n",
       "      <th>2384</th>\n",
       "      <td>653487078d3b56d4877cae44</td>\n",
       "      <td>1994</td>\n",
       "      <td>Emmitt Smith</td>\n",
       "      <td>25.0</td>\n",
       "      <td>RB</td>\n",
       "      <td>15</td>\n",
       "      <td>15.0</td>\n",
       "      <td>21.0</td>\n",
       "      <td>1.0</td>\n",
       "    </tr>\n",
       "    <tr>\n",
       "      <th>2385</th>\n",
       "      <td>653487078d3b56d4877cae45</td>\n",
       "      <td>1998</td>\n",
       "      <td>Terrell Davis</td>\n",
       "      <td>26.0</td>\n",
       "      <td>RB</td>\n",
       "      <td>16</td>\n",
       "      <td>16.0</td>\n",
       "      <td>21.0</td>\n",
       "      <td>2.0</td>\n",
       "    </tr>\n",
       "    <tr>\n",
       "      <th>2386</th>\n",
       "      <td>653487078d3b56d4877cae46</td>\n",
       "      <td>2002</td>\n",
       "      <td>Priest Holmes</td>\n",
       "      <td>29.0</td>\n",
       "      <td>RB</td>\n",
       "      <td>14</td>\n",
       "      <td>14.0</td>\n",
       "      <td>21.0</td>\n",
       "      <td>3.0</td>\n",
       "    </tr>\n",
       "    <tr>\n",
       "      <th>2387</th>\n",
       "      <td>653487078d3b56d4877cae4b</td>\n",
       "      <td>2005</td>\n",
       "      <td>Shaun Alexander</td>\n",
       "      <td>28.0</td>\n",
       "      <td>RB</td>\n",
       "      <td>16</td>\n",
       "      <td>16.0</td>\n",
       "      <td>27.0</td>\n",
       "      <td>1.0</td>\n",
       "    </tr>\n",
       "    <tr>\n",
       "      <th>2388</th>\n",
       "      <td>653487078d3b56d4877cae4d</td>\n",
       "      <td>2006</td>\n",
       "      <td>LaDainian Tomlinson</td>\n",
       "      <td>27.0</td>\n",
       "      <td>RB</td>\n",
       "      <td>16</td>\n",
       "      <td>16.0</td>\n",
       "      <td>28.0</td>\n",
       "      <td>3.0</td>\n",
       "    </tr>\n",
       "  </tbody>\n",
       "</table>\n",
       "</div>"
      ],
      "text/plain": [
       "                           _id  Season               Player   Age Pos   G  \\\n",
       "2384  653487078d3b56d4877cae44    1994         Emmitt Smith  25.0  RB  15   \n",
       "2385  653487078d3b56d4877cae45    1998        Terrell Davis  26.0  RB  16   \n",
       "2386  653487078d3b56d4877cae46    2002        Priest Holmes  29.0  RB  14   \n",
       "2387  653487078d3b56d4877cae4b    2005      Shaun Alexander  28.0  RB  16   \n",
       "2388  653487078d3b56d4877cae4d    2006  LaDainian Tomlinson  27.0  RB  16   \n",
       "\n",
       "        GS  RshTD  RecTD  \n",
       "2384  15.0   21.0    1.0  \n",
       "2385  16.0   21.0    2.0  \n",
       "2386  14.0   21.0    3.0  \n",
       "2387  16.0   27.0    1.0  \n",
       "2388  16.0   28.0    3.0  "
      ]
     },
     "execution_count": 108,
     "metadata": {},
     "output_type": "execute_result"
    }
   ],
   "source": [
    "scoring_stats.tail()"
   ]
  },
  {
   "cell_type": "code",
   "execution_count": 109,
   "metadata": {},
   "outputs": [
    {
     "name": "stderr",
     "output_type": "stream",
     "text": [
      "C:\\Users\\cvoko\\AppData\\Local\\Temp\\ipykernel_39452\\3446427543.py:1: UserWarning: Pandas doesn't allow columns to be created via a new attribute name - see https://pandas.pydata.org/pandas-docs/stable/indexing.html#attribute-access\n",
      "  scoring_stats.budget = pd.to_numeric(scoring_stats.Age, errors='coerce')\n",
      "C:\\Users\\cvoko\\AppData\\Local\\Temp\\ipykernel_39452\\3446427543.py:2: UserWarning: Pandas doesn't allow columns to be created via a new attribute name - see https://pandas.pydata.org/pandas-docs/stable/indexing.html#attribute-access\n",
      "  scoring_stats.runtime = pd.to_numeric(scoring_stats.G, errors='coerce')\n"
     ]
    },
    {
     "data": {
      "text/html": [
       "<div>\n",
       "<style scoped>\n",
       "    .dataframe tbody tr th:only-of-type {\n",
       "        vertical-align: middle;\n",
       "    }\n",
       "\n",
       "    .dataframe tbody tr th {\n",
       "        vertical-align: top;\n",
       "    }\n",
       "\n",
       "    .dataframe thead th {\n",
       "        text-align: right;\n",
       "    }\n",
       "</style>\n",
       "<table border=\"1\" class=\"dataframe\">\n",
       "  <thead>\n",
       "    <tr style=\"text-align: right;\">\n",
       "      <th></th>\n",
       "      <th>_id</th>\n",
       "      <th>Season</th>\n",
       "      <th>Player</th>\n",
       "      <th>Age</th>\n",
       "      <th>Pos</th>\n",
       "      <th>G</th>\n",
       "      <th>GS</th>\n",
       "      <th>RshTD</th>\n",
       "      <th>RecTD</th>\n",
       "    </tr>\n",
       "  </thead>\n",
       "  <tbody>\n",
       "    <tr>\n",
       "      <th>0</th>\n",
       "      <td>653487058d3b56d4877c97fc</td>\n",
       "      <td>1926</td>\n",
       "      <td>Eddie Kotal</td>\n",
       "      <td>24.0</td>\n",
       "      <td>HB</td>\n",
       "      <td>10</td>\n",
       "      <td>5.0</td>\n",
       "      <td>1.0</td>\n",
       "      <td>1.0</td>\n",
       "    </tr>\n",
       "    <tr>\n",
       "      <th>1</th>\n",
       "      <td>653487058d3b56d4877c97fd</td>\n",
       "      <td>1934</td>\n",
       "      <td>Joe Laws</td>\n",
       "      <td>23.0</td>\n",
       "      <td>HB</td>\n",
       "      <td>13</td>\n",
       "      <td>7.0</td>\n",
       "      <td>1.0</td>\n",
       "      <td>1.0</td>\n",
       "    </tr>\n",
       "    <tr>\n",
       "      <th>2</th>\n",
       "      <td>653487058d3b56d4877c97fe</td>\n",
       "      <td>1940</td>\n",
       "      <td>Lou Tomasetti</td>\n",
       "      <td>24.0</td>\n",
       "      <td>HB</td>\n",
       "      <td>10</td>\n",
       "      <td>9.0</td>\n",
       "      <td>1.0</td>\n",
       "      <td>1.0</td>\n",
       "    </tr>\n",
       "    <tr>\n",
       "      <th>3</th>\n",
       "      <td>653487058d3b56d4877c97ff</td>\n",
       "      <td>1943</td>\n",
       "      <td>Merl Condit</td>\n",
       "      <td>26.0</td>\n",
       "      <td>HB</td>\n",
       "      <td>8</td>\n",
       "      <td>7.0</td>\n",
       "      <td>1.0</td>\n",
       "      <td>1.0</td>\n",
       "    </tr>\n",
       "    <tr>\n",
       "      <th>4</th>\n",
       "      <td>653487058d3b56d4877c9800</td>\n",
       "      <td>1950</td>\n",
       "      <td>Fred Gehrke</td>\n",
       "      <td>32.0</td>\n",
       "      <td>HB</td>\n",
       "      <td>11</td>\n",
       "      <td>1.0</td>\n",
       "      <td>1.0</td>\n",
       "      <td>1.0</td>\n",
       "    </tr>\n",
       "  </tbody>\n",
       "</table>\n",
       "</div>"
      ],
      "text/plain": [
       "                        _id  Season         Player   Age Pos   G   GS  RshTD  \\\n",
       "0  653487058d3b56d4877c97fc    1926    Eddie Kotal  24.0  HB  10  5.0    1.0   \n",
       "1  653487058d3b56d4877c97fd    1934       Joe Laws  23.0  HB  13  7.0    1.0   \n",
       "2  653487058d3b56d4877c97fe    1940  Lou Tomasetti  24.0  HB  10  9.0    1.0   \n",
       "3  653487058d3b56d4877c97ff    1943    Merl Condit  26.0  HB   8  7.0    1.0   \n",
       "4  653487058d3b56d4877c9800    1950    Fred Gehrke  32.0  HB  11  1.0    1.0   \n",
       "\n",
       "   RecTD  \n",
       "0    1.0  \n",
       "1    1.0  \n",
       "2    1.0  \n",
       "3    1.0  \n",
       "4    1.0  "
      ]
     },
     "execution_count": 109,
     "metadata": {},
     "output_type": "execute_result"
    }
   ],
   "source": [
    "scoring_stats.budget = pd.to_numeric(scoring_stats.Age, errors='coerce')\n",
    "scoring_stats.runtime = pd.to_numeric(scoring_stats.G, errors='coerce')\n",
    "scoring_stats.budget = pd.to_numeric(scoring_stats.GS, errors='coerce')\n",
    "scoring_stats.runtime = pd.to_numeric(scoring_stats.RshTD, errors='coerce')\n",
    "scoring_stats.budget = pd.to_numeric(scoring_stats.RecTD, errors='coerce')\n",
    "scoring_stats.runtime = pd.to_datetime(scoring_stats.Season, errors='coerce')\n",
    "\n",
    "\n",
    "scoring_stats.head()\n"
   ]
  },
  {
   "cell_type": "code",
   "execution_count": 110,
   "metadata": {},
   "outputs": [
    {
     "data": {
      "image/png": "[encoded data removed]",
      "text/plain": [
       "<Figure size 640x480 with 1 Axes>"
      ]
     },
     "metadata": {},
     "output_type": "display_data"
    }
   ],
   "source": [
    "scoring_stats.dropna(inplace=True)\n",
    "\n",
    "import matplotlib.pyplot as plt\n",
    "scoring_stats['RshTD'].plot(kind='hist')\n",
    "plt.title('Distribution of Rush TD')\n",
    "plt.xlabel('Values')\n",
    "plt.ylabel('Frequency')\n",
    "plt.show()"
   ]
  },
  {
   "cell_type": "code",
   "execution_count": 111,
   "metadata": {},
   "outputs": [
    {
     "data": {
      "image/png": "[encoded data removed]",
      "text/plain": [
       "<Figure size 640x480 with 1 Axes>"
      ]
     },
     "metadata": {},
     "output_type": "display_data"
    }
   ],
   "source": [
    "scoring_stats.dropna(inplace=True)\n",
    "\n",
    "import matplotlib.pyplot as plt\n",
    "scoring_stats['RecTD'].plot(kind='hist')\n",
    "plt.title('Distribution of Rec TD')\n",
    "plt.xlabel('Values')\n",
    "plt.ylabel('Frequency')\n",
    "plt.show()"
   ]
  },
  {
   "cell_type": "code",
   "execution_count": 112,
   "metadata": {},
   "outputs": [],
   "source": [
    "scoring_stats.to_csv('cleaned_data.csv', index=False)"
   ]
  },
  {
   "cell_type": "code",
   "execution_count": 128,
   "metadata": {},
   "outputs": [
    {
     "name": "stdout",
     "output_type": "stream",
     "text": [
      "     Season    G     GS  RshTD  RecTD\n",
      "96     2018  694  452.0  235.0  164.0\n",
      "100    2022  879  495.0  192.0  146.0\n",
      "99     2021  840  467.0  239.0  144.0\n",
      "98     2020  780  435.0  225.0  144.0\n",
      "97     2019  721  412.0  228.0  134.0\n",
      "..      ...  ...    ...    ...    ...\n",
      "15     1937   43   38.0   13.0    6.0\n",
      "2      1924   45   41.0   14.0    5.0\n",
      "13     1935   34   17.0    8.0    4.0\n",
      "14     1936   31   19.0    8.0    4.0\n",
      "16     1938   43   36.0    9.0    4.0\n",
      "\n",
      "[101 rows x 5 columns]\n",
      "\n",
      "    Season    G     GS  RshTD  RecTD\n",
      "99    2021  840  467.0  239.0  144.0\n",
      "96    2018  694  452.0  235.0  164.0\n",
      "94    2016  750  402.0  230.0  110.0\n",
      "97    2019  721  412.0  228.0  134.0\n",
      "98    2020  780  435.0  225.0  144.0\n",
      "..     ...  ...    ...    ...    ...\n",
      "18    1940   72   54.0    9.0   11.0\n",
      "14    1936   31   19.0    8.0    4.0\n",
      "13    1935   34   17.0    8.0    4.0\n",
      "11    1933   35   32.0    7.0    7.0\n",
      "17    1939   51   33.0    7.0    7.0\n",
      "\n",
      "[101 rows x 5 columns]\n"
     ]
    }
   ],
   "source": [
    "\n",
    "# Group by season and calculate totals\n",
    "grouped_season = scoring_stats.groupby([\"Season\"]).agg({\n",
    "    \"G\": \"sum\",\n",
    "    \"GS\": \"sum\",\n",
    "    \"RshTD\": \"sum\",\n",
    "    \"RecTD\": \"sum\"\n",
    "}).reset_index()\n",
    "\n",
    "\n",
    "sorted_RecTD = grouped_season.sort_values(by=\"RecTD\", ascending=False)\n",
    "sorted_RshTD = grouped_season.sort_values(by=\"RshTD\", ascending=False)\n",
    "\n",
    "grouped_season.to_csv('cleaned_season.csv', index=False)\n",
    "grouped_season.dropna(inplace=True)\n",
    "\n",
    "print(sorted_RecTD)\n",
    "print()\n",
    "print(sorted_RshTD)"
   ]
  },
  {
   "cell_type": "code",
   "execution_count": 131,
   "metadata": {},
   "outputs": [
    {
     "name": "stdout",
     "output_type": "stream",
     "text": [
      "<class 'pandas.core.frame.DataFrame'>\n",
      "RangeIndex: 29 entries, 0 to 28\n",
      "Data columns (total 5 columns):\n",
      " #   Column  Non-Null Count  Dtype  \n",
      "---  ------  --------------  -----  \n",
      " 0   Pos     29 non-null     object \n",
      " 1   G       29 non-null     int64  \n",
      " 2   GS      29 non-null     float64\n",
      " 3   RshTD   29 non-null     float64\n",
      " 4   RecTD   29 non-null     float64\n",
      "dtypes: float64(3), int64(1), object(1)\n",
      "memory usage: 1.3+ KB\n"
     ]
    }
   ],
   "source": [
    "\n",
    "# Group by position and calculate totals\n",
    "grouped_pos = scoring_stats.groupby([\"Pos\"]).agg({\n",
    "    \"G\": \"sum\",\n",
    "    \"GS\": \"sum\",\n",
    "    \"RshTD\": \"sum\",\n",
    "    \"RecTD\": \"sum\"\n",
    "}).reset_index()\n",
    "\n",
    "sorted_RecTD = grouped_pos.sort_values(by=\"RecTD\", ascending=False)\n",
    "sorted_RshTD = grouped_pos.sort_values(by=\"RshTD\", ascending=False)\n",
    "\n",
    "grouped_pos.to_csv('cleaned_pos.csv', index=False)\n",
    "grouped_pos.dropna(inplace=True)\n",
    "\n",
    "print(sorted_RecTD)\n",
    "print()\n",
    "print(sorted_RshTD)"
   ]
  },
  {
   "cell_type": "code",
   "execution_count": 115,
   "metadata": {},
   "outputs": [
    {
     "name": "stdout",
     "output_type": "stream",
     "text": [
      "Total RshTD: 9525.0\n",
      "Total RecTD: 5188.0\n"
     ]
    }
   ],
   "source": [
    "# Total Scores\n",
    "\n",
    "total_RshTD = sorted_RshTD[\"RshTD\"].sum()\n",
    "total_RecTD = sorted_RecTD[\"RecTD\"].sum()\n",
    "\n",
    "print(f\"Total RshTD: {total_RshTD}\")\n",
    "print(f\"Total RecTD: {total_RecTD}\")\n"
   ]
  },
  {
   "cell_type": "code",
   "execution_count": 130,
   "metadata": {},
   "outputs": [
    {
     "name": "stdout",
     "output_type": "stream",
     "text": [
      "     Age     G      GS   RshTD  RecTD\n",
      "5   25.0  4652  2929.0  1402.0  788.0\n",
      "4   24.0  4968  2739.0  1402.0  725.0\n",
      "6   26.0  4272  2843.0  1334.0  691.0\n",
      "7   27.0  3624  2493.0  1091.0  612.0\n",
      "3   23.0  4053  2247.0  1163.0  605.0\n",
      "8   28.0  2663  1783.0   756.0  455.0\n",
      "2   22.0  2438  1358.0   723.0  370.0\n",
      "9   29.0  2055  1399.0   607.0  311.0\n",
      "10  30.0  1401   875.0   415.0  221.0\n",
      "11  31.0   819   575.0   232.0  148.0\n",
      "12  32.0   609   339.0   143.0  100.0\n",
      "1   21.0   499   262.0   170.0   73.0\n",
      "13  33.0   280   167.0    58.0   48.0\n",
      "14  34.0   132    72.0    20.0   27.0\n",
      "16  36.0    30    18.0     2.0    6.0\n",
      "15  35.0    34     5.0     6.0    4.0\n",
      "0   20.0    10     7.0     1.0    4.0\n",
      "\n",
      "     Age     G      GS   RshTD  RecTD\n",
      "4   24.0  4968  2739.0  1402.0  725.0\n",
      "5   25.0  4652  2929.0  1402.0  788.0\n",
      "6   26.0  4272  2843.0  1334.0  691.0\n",
      "3   23.0  4053  2247.0  1163.0  605.0\n",
      "7   27.0  3624  2493.0  1091.0  612.0\n",
      "8   28.0  2663  1783.0   756.0  455.0\n",
      "2   22.0  2438  1358.0   723.0  370.0\n",
      "9   29.0  2055  1399.0   607.0  311.0\n",
      "10  30.0  1401   875.0   415.0  221.0\n",
      "11  31.0   819   575.0   232.0  148.0\n",
      "1   21.0   499   262.0   170.0   73.0\n",
      "12  32.0   609   339.0   143.0  100.0\n",
      "13  33.0   280   167.0    58.0   48.0\n",
      "14  34.0   132    72.0    20.0   27.0\n",
      "15  35.0    34     5.0     6.0    4.0\n",
      "16  36.0    30    18.0     2.0    6.0\n",
      "0   20.0    10     7.0     1.0    4.0\n"
     ]
    }
   ],
   "source": [
    "\n",
    "# Group by position and calculate totals\n",
    "grouped_age = scoring_stats.groupby([\"Age\"]).agg({\n",
    "    \"G\": \"sum\",\n",
    "    \"GS\": \"sum\",\n",
    "    \"RshTD\": \"sum\",\n",
    "    \"RecTD\": \"sum\"\n",
    "}).reset_index()\n",
    "\n",
    "\n",
    "sorted_RecTD = grouped_age.sort_values(by=\"RecTD\", ascending=False)\n",
    "sorted_RshTD = grouped_age.sort_values(by=\"RshTD\", ascending=False)\n",
    "\n",
    "grouped_age.to_csv('cleaned_age.csv', index=False)\n",
    "grouped_age.dropna(inplace=True)\n",
    "\n",
    "print(sorted_RecTD)\n",
    "print()\n",
    "print(sorted_RshTD)"
   ]
  },
  {
   "cell_type": "code",
   "execution_count": 117,
   "metadata": {},
   "outputs": [
    {
     "data": {
      "image/png": "[encoded data removed]",
      "text/plain": [
       "<Figure size 640x480 with 1 Axes>"
      ]
     },
     "metadata": {},
     "output_type": "display_data"
    }
   ],
   "source": [
    "from matplotlib import pyplot\n",
    "\n",
    "# Plot runtimes in a scatterplot.\n",
    "pyplot.title('TOTAL REC TD AT EVERY AGE')\n",
    "pyplot.xlabel('Age')\n",
    "pyplot.ylabel('Rec TD')\n",
    "pyplot.scatter(grouped_age['Age'], grouped_age['RecTD'])\n",
    "pyplot.show()"
   ]
  },
  {
   "cell_type": "code",
   "execution_count": 118,
   "metadata": {},
   "outputs": [
    {
     "data": {
      "image/png": "[encoded data removed]",
      "text/plain": [
       "<Figure size 640x480 with 1 Axes>"
      ]
     },
     "metadata": {},
     "output_type": "display_data"
    }
   ],
   "source": [
    "from matplotlib import pyplot\n",
    "\n",
    "# Plot runtimes in a scatterplot.\n",
    "pyplot.title('CORRELATION BETWEEN AGE AND REC TD AND RUSH TD')\n",
    "pyplot.xlabel('Age')\n",
    "pyplot.ylabel('Rec TD')\n",
    "pyplot.scatter(scoring_stats['Age'], scoring_stats['RecTD'])\n",
    "pyplot.show()"
   ]
  },
  {
   "cell_type": "code",
   "execution_count": 119,
   "metadata": {},
   "outputs": [
    {
     "name": "stdout",
     "output_type": "stream",
     "text": [
      "Correlation between 'age' and 'rec td': 0.04823252143966383\n"
     ]
    }
   ],
   "source": [
    "correlation = scoring_stats['Age'].corr(scoring_stats['RecTD'])\n",
    "\n",
    "print(f\"Correlation between 'age' and 'rec td': {correlation}\")\n"
   ]
  },
  {
   "cell_type": "code",
   "execution_count": 127,
   "metadata": {},
   "outputs": [
    {
     "data": {
      "image/png": "[encoded data removed]",
      "text/plain": [
       "<Figure size 1200x600 with 1 Axes>"
      ]
     },
     "metadata": {},
     "output_type": "display_data"
    }
   ],
   "source": [
    "from matplotlib import pyplot\n",
    "\n",
    "pyplot.figure(figsize=(12, 6))\n",
    "\n",
    "# Plot runtimes in a scatterplot.\n",
    "pyplot.title('CORRELATION BETWEEN AGE AND REC TD AND RUSH TD')\n",
    "pyplot.xlabel('Age')\n",
    "pyplot.ylabel('Rec TD')\n",
    "pyplot.scatter(grouped_pos['Pos'], grouped_pos['RecTD'])\n",
    "pyplot.show()"
   ]
  }
 ],
 "metadata": {
  "kernelspec": {
   "display_name": "Python 3",
   "language": "python",
   "name": "python3"
  },
  "language_info": {
   "codemirror_mode": {
    "name": "ipython",
    "version": 3
   },
   "file_extension": ".py",
   "mimetype": "text/x-python",
   "name": "python",
   "nbconvert_exporter": "python",
   "pygments_lexer": "ipython3",
   "version": "3.11.5"
  }
 },
 "nbformat": 4,
 "nbformat_minor": 2
}
